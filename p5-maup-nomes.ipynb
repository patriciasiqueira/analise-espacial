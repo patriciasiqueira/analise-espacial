{
  "nbformat": 4,
  "nbformat_minor": 0,
  "metadata": {
    "colab": {
      "provenance": []
    },
    "kernelspec": {
      "display_name": "Python 3",
      "language": "python",
      "name": "python3"
    }
  },
  "cells": [
    {
      "cell_type": "markdown",
      "source": [
        "# MAUP (problema da unidade de área modificável)"
      ],
      "metadata": {
        "id": "18yvz0srM03b"
      }
    },
    {
      "cell_type": "markdown",
      "source": [
        "Além da dependência espacial e da heterogeneidade espacial (os efeitos espaciais), existem alguns problemas que podem afetar a análise de dados espaciais:\n",
        "\n",
        "- falácia ecológica\n",
        "- unidade de área modificável (MAUP) - sensibilidade dos resultados em relação à dimensão e à configuração da área de estudo\n",
        "- efeito de beirada\n",
        "- influência de *outliers* espaciais"
      ],
      "metadata": {
        "id": "9XrsYR92M9Tw"
      }
    },
    {
      "cell_type": "markdown",
      "source": [
        "Os resultados de uma análise de dados dependem da definição do critério usado para a agregação espacial dos dados.\n"
      ],
      "metadata": {
        "id": "m7VsjWlQNlqf"
      }
    },
    {
      "cell_type": "markdown",
      "source": [
        "\n",
        "\n",
        "---\n",
        "\n",
        "\n",
        "\n",
        "---\n",
        "\n",
        "\n",
        "MAUP = problema de escala + problema de zoneamento\n",
        "\n",
        "---\n",
        "\n",
        "\n"
      ],
      "metadata": {
        "id": "tzsu3ryRN_Fp"
      }
    },
    {
      "cell_type": "markdown",
      "source": [
        "\n",
        "- O MAUP se manifesta na situação em que os resultados da análise são sensíveis à forma como os dados espaciais são organizados (nível de escala e zoneamento)\n",
        "- Uma escolha inadequada da escala geográfica pode gerar dependência espacial artificial\n",
        "- O MAUP limita a possibilidade de replicação de um modelo a uma outra região de estudo, se a escala e o zoneamento forem distintos daqueles da aplicação inicial"
      ],
      "metadata": {
        "id": "uA8o21tsNVFd"
      }
    },
    {
      "cell_type": "markdown",
      "source": [
        "- Se os dados fossem distribuídos aleatoriamente no espaço, o problema de escala não apareceria\n",
        "- O problema de escala vincula-se ao efeito da dependência espacial\n",
        "- Se o espaço fosse absolutamente homogêneo, qualquer combinação de unidades espaciais em zonas forneceria os mesmos resultados (não haveria o problema de zoneamento)"
      ],
      "metadata": {
        "id": "3wGsvkecN4PD"
      }
    },
    {
      "cell_type": "markdown",
      "metadata": {
        "id": "wud8Jwda1m5z"
      },
      "source": [
        "# MAUP em MG"
      ]
    },
    {
      "cell_type": "code",
      "metadata": {
        "id": "ub1LAdZM13tQ"
      },
      "source": [
        "!pip install geopandas==0.8.2\n",
        "!pip install --upgrade pyshp\n",
        "!pip install shapely  ==1.7.0\n",
        "!pip install --upgrade descartes\n",
        "!pip install mapclassify==2.3.0 libpysal==4.3.0 splot==1.1.3\n",
        "!pip install esda\n",
        "!pip install pysal"
      ],
      "execution_count": null,
      "outputs": []
    },
    {
      "cell_type": "code",
      "source": [
        "import pandas as pd\n",
        "import numpy as np\n",
        "from scipy import stats\n",
        "import statsmodels.formula.api as sm\n",
        "\n",
        "# para gráficos\n",
        "%matplotlib inline\n",
        "import matplotlib.pyplot as plt\n",
        "import seaborn as sns\n",
        "\n",
        "# para a análise de dados espaciais\n",
        "import geopandas as gp\n",
        "import pysal as ps\n",
        "import splot\n",
        "import mapclassify as mc\n",
        "from libpysal.weights import Queen\n",
        "from libpysal import weights\n",
        "from esda import Moran, Moran_Local, G_Local\n",
        "from splot.esda import plot_moran, moran_scatterplot, lisa_cluster, plot_local_autocorrelation\n",
        "\n",
        "# links com arquivos úteis\n",
        "link = 'https://raw.githubusercontent.com/lincolnfrias/dados/master/'\n",
        "link_p = 'https://raw.githubusercontent.com/patriciasiqueira/patriciasiqueira.github.io/master/arquivos/'"
      ],
      "metadata": {
        "id": "B_XkVHXZz0NO"
      },
      "execution_count": null,
      "outputs": []
    },
    {
      "cell_type": "markdown",
      "metadata": {
        "id": "HvW8kI7Iwa_V"
      },
      "source": [
        "# Nível de agregação: municípios"
      ]
    },
    {
      "cell_type": "markdown",
      "metadata": {
        "id": "wHRualwfaHTp"
      },
      "source": [
        "## Quantidade produzida\n",
        "\n",
        "Dados de 2017"
      ]
    },
    {
      "cell_type": "code",
      "metadata": {
        "id": "DfSUvAJBPUlS"
      },
      "source": [
        "# ler dados de interesse\n",
        "dados = pd.read_csv('https://raw.githubusercontent.com/patriciasiqueira/patriciasiqueira.github.io/master/arquivos/qtde-cod-18-mg.csv', encoding='latin1')\n",
        "link = 'https://raw.githubusercontent.com/lincolnfrias/dados/master/mg.json'\n",
        "geodf = gp.read_file(link)   # ler shapefile de MG\n",
        "# mesclar shapefile com dataframe usando a coluna mun\n",
        "geodf.rename(columns={'CD_GEOCMU': 'mun'}, inplace=True)  # mudar nome da coluna com cód. para 'mun'\n",
        "geodf['mun'] = geodf.mun.astype(int)  # transformar códigos em inteiros\n",
        "mg = pd.merge(geodf, dados, on='mun', suffixes=('', '_y'))  # mesclar o dataframe e o shapefile em um objeto\n",
        "mg = mg.loc[:, mg.columns != 'NM_MUNICIP']  # tirar a coluna NM_MUNICIP"
      ],
      "execution_count": null,
      "outputs": []
    },
    {
      "cell_type": "code",
      "metadata": {
        "id": "ZlPXLteRPUmE"
      },
      "source": [
        "mg.columns"
      ],
      "execution_count": null,
      "outputs": []
    },
    {
      "cell_type": "code",
      "metadata": {
        "id": "PM_wA4HYlu0U"
      },
      "source": [
        "mg.query(\"nome_mun == 'Varginha'\")"
      ],
      "execution_count": null,
      "outputs": []
    },
    {
      "cell_type": "code",
      "metadata": {
        "id": "XrjPYCE6PUmO"
      },
      "source": [
        "variavel = 'banana'      # escolher a variável e colocar entre aspas"
      ],
      "execution_count": null,
      "outputs": []
    },
    {
      "cell_type": "code",
      "source": [
        "# total da produção de banana em MG em 2017\n",
        "mg[variavel].sum()"
      ],
      "metadata": {
        "id": "vSuBzePRHP5n"
      },
      "execution_count": null,
      "outputs": []
    },
    {
      "cell_type": "code",
      "metadata": {
        "id": "9NLtH2C6V4MF"
      },
      "source": [
        "# resumo estatístico\n",
        "mg[variavel].describe()"
      ],
      "execution_count": null,
      "outputs": []
    },
    {
      "cell_type": "code",
      "metadata": {
        "id": "F9mMZHxeWVkw"
      },
      "source": [
        "# histograma\n",
        "mg[variavel].hist();"
      ],
      "execution_count": null,
      "outputs": []
    },
    {
      "cell_type": "code",
      "metadata": {
        "id": "R7oifRXwXtu2"
      },
      "source": [
        "# boxplot\n",
        "sns.boxplot(mg[variavel], orient='v');"
      ],
      "execution_count": null,
      "outputs": []
    },
    {
      "cell_type": "code",
      "metadata": {
        "id": "1DTyJTtaWRA3"
      },
      "source": [
        "# visualizar os municípios em ordem decrescente (ou crescente)\n",
        "mg.sort_values(variavel, ascending=False)[['nome_mun', 'nome_meso', variavel]].head(10)"
      ],
      "execution_count": null,
      "outputs": []
    },
    {
      "cell_type": "code",
      "source": [
        "mg[mg.nome_mun == \"Jaíba\"]"
      ],
      "metadata": {
        "id": "1-HLUh--HyOs"
      },
      "execution_count": null,
      "outputs": []
    },
    {
      "cell_type": "code",
      "metadata": {
        "id": "pOqTBLrpPUm0"
      },
      "source": [
        "# mapa temático - simples\n",
        "mg.plot(variavel, legend=True);"
      ],
      "execution_count": null,
      "outputs": []
    },
    {
      "cell_type": "code",
      "metadata": {
        "id": "3CwxoSK4PUnE"
      },
      "source": [
        "# mapa temático - quantiles\n",
        "mg.plot(column=variavel, figsize=(10, 10), scheme='Quantiles', cmap='OrRd', legend=True, k=4);"
      ],
      "execution_count": null,
      "outputs": []
    },
    {
      "cell_type": "code",
      "metadata": {
        "id": "E69kzf3fPUno"
      },
      "source": [
        "# mapa temático - equal_interval\n",
        "mg.plot(column=variavel, figsize=(10, 10), scheme='Equal_Interval', cmap='OrRd', legend=True, k=4);"
      ],
      "execution_count": null,
      "outputs": []
    },
    {
      "cell_type": "code",
      "metadata": {
        "id": "AmjNWyeEPUn-"
      },
      "source": [
        "# obter matriz de vizinhança no formato queen\n",
        "w = Queen.from_dataframe(mg)\n",
        "w.transform = 'r'\n",
        "# calcular I de Moran global para a variável escolhida\n",
        "y = mg[variavel].values\n",
        "moran = Moran(y, w)\n",
        "moran.I"
      ],
      "execution_count": null,
      "outputs": []
    },
    {
      "cell_type": "code",
      "metadata": {
        "id": "3j98Tsc7PUoD"
      },
      "source": [
        "# valor-p\n",
        "moran.p_sim"
      ],
      "execution_count": null,
      "outputs": []
    },
    {
      "cell_type": "code",
      "metadata": {
        "id": "VtEjLF91PUoN"
      },
      "source": [
        "# só o diagrama de dispersão\n",
        "moran_loc = Moran_Local(y, w)\n",
        "moran_scatterplot(moran_loc, p=0.05);"
      ],
      "execution_count": null,
      "outputs": []
    },
    {
      "cell_type": "code",
      "metadata": {
        "id": "r09Q8KvlPUoS"
      },
      "source": [
        "# mapa LISA\n",
        "lisa_cluster(moran_loc, mg, p=0.05, figsize = (9,9));"
      ],
      "execution_count": null,
      "outputs": []
    },
    {
      "cell_type": "markdown",
      "metadata": {
        "id": "v0LtpgjllBmP"
      },
      "source": [
        "# Nível de agregação: mesorregiões"
      ]
    },
    {
      "cell_type": "code",
      "metadata": {
        "id": "YX83xB9h5tEW"
      },
      "source": [
        "# agrupar municípios em mesorregiões\n",
        "# mapa contém as informações divididas em municípios e queremos unir os\n",
        "# municípios em mesorregiões\n",
        "# uso da função dissolve\n",
        "# agrupar de acordo com as mesorregiões (código e nome)\n",
        "# somar os valores dos municípios presentes em cada mesorregião\n",
        "mesos = mg.dissolve(by=['meso', 'nome_meso'], aggfunc='sum')\n",
        "mesos.head(3)"
      ],
      "execution_count": null,
      "outputs": []
    },
    {
      "cell_type": "code",
      "metadata": {
        "id": "9Z8VR4rcW_Bf"
      },
      "source": [
        "# reiniciar índices e retirar as colunas que não serão usadas\n",
        "mesos = mesos.reset_index()\n",
        "# retirar = ['mun', 'uf', 'micro', 'cod_rgi', 'nome_rgi', 'nome_rgint', 'codmun6', 'regiao', 'nome_regiao', 'area']\n",
        "# mesos = mesos.drop(retirar, axis=1)"
      ],
      "execution_count": null,
      "outputs": []
    },
    {
      "cell_type": "code",
      "metadata": {
        "id": "NI2p2_UhlGdw"
      },
      "source": [
        "# resumo estatístico\n",
        "mesos[variavel].describe()"
      ],
      "execution_count": null,
      "outputs": []
    },
    {
      "cell_type": "code",
      "metadata": {
        "id": "oPmgM2YOlGd2"
      },
      "source": [
        "mesos[variavel].hist();"
      ],
      "execution_count": null,
      "outputs": []
    },
    {
      "cell_type": "code",
      "metadata": {
        "id": "LzktQVP0lGd8"
      },
      "source": [
        "# boxplot\n",
        "sns.boxplot(mesos[variavel], orient='v');"
      ],
      "execution_count": null,
      "outputs": []
    },
    {
      "cell_type": "code",
      "metadata": {
        "id": "XK0duiFHlGeC"
      },
      "source": [
        "# visualizar as mesorregiões em ordem decrescente (ou crescente)\n",
        "mesos.sort_values(variavel, ascending=False)[['nome_meso', variavel]].head(10)"
      ],
      "execution_count": null,
      "outputs": []
    },
    {
      "cell_type": "code",
      "metadata": {
        "id": "UkvB82dflGeJ"
      },
      "source": [
        "# mapa temático - simples\n",
        "mesos.plot(variavel, legend=True);"
      ],
      "execution_count": null,
      "outputs": []
    },
    {
      "cell_type": "code",
      "metadata": {
        "id": "WpxKwiC8lGeN"
      },
      "source": [
        "# mapa temático - quantiles\n",
        "mesos.plot(column=variavel, figsize=(10, 10), scheme='Quantiles', cmap='OrRd', legend=True, k=4);"
      ],
      "execution_count": null,
      "outputs": []
    },
    {
      "cell_type": "code",
      "metadata": {
        "id": "mjCPYa4JlGeR"
      },
      "source": [
        "# mapa temático - equal_interval\n",
        "mesos.plot(column=variavel, figsize=(10, 10), scheme='Equal_Interval', cmap='OrRd', legend=True, k=4);"
      ],
      "execution_count": null,
      "outputs": []
    },
    {
      "cell_type": "code",
      "metadata": {
        "id": "rM1egDSolGeU"
      },
      "source": [
        "# obter matriz de vizinhança no formato queen\n",
        "w = Queen.from_dataframe(mesos)\n",
        "w.transform = 'r'\n",
        "# calcular I de Moran global para a variável escolhida\n",
        "y = mesos[variavel].values\n",
        "moran = Moran(y, w)\n",
        "moran.I"
      ],
      "execution_count": null,
      "outputs": []
    },
    {
      "cell_type": "code",
      "metadata": {
        "id": "Dng4zD2glGeZ"
      },
      "source": [
        "# valor-p\n",
        "moran.p_sim"
      ],
      "execution_count": null,
      "outputs": []
    },
    {
      "cell_type": "code",
      "metadata": {
        "id": "Ep6vrDnglGed"
      },
      "source": [
        "# só o diagrama de dispersão\n",
        "moran_loc = Moran_Local(y, w)\n",
        "moran_scatterplot(moran_loc, p=0.05);"
      ],
      "execution_count": null,
      "outputs": []
    },
    {
      "cell_type": "code",
      "metadata": {
        "id": "d463wCXglGei"
      },
      "source": [
        "# mapa LISA\n",
        "lisa_cluster(moran_loc, mesos, p=0.05, figsize = (9,9));"
      ],
      "execution_count": null,
      "outputs": []
    },
    {
      "cell_type": "code",
      "metadata": {
        "id": "ennbCU9X7hgP"
      },
      "source": [],
      "execution_count": null,
      "outputs": []
    },
    {
      "cell_type": "markdown",
      "metadata": {
        "id": "YgTxlIjGy_t_"
      },
      "source": [
        "# Nível de agregação: microrregiões"
      ]
    },
    {
      "cell_type": "code",
      "metadata": {
        "id": "inM6LX5dzDG6"
      },
      "source": [
        "micros = mg.dissolve(by=['micro', 'nome_micro'], aggfunc='sum')\n",
        "micros.head(3)"
      ],
      "execution_count": null,
      "outputs": []
    },
    {
      "cell_type": "code",
      "metadata": {
        "id": "Aigh8sDWoq-R"
      },
      "source": [
        "# reiniciar índices\n",
        "micros = micros.reset_index()"
      ],
      "execution_count": null,
      "outputs": []
    },
    {
      "cell_type": "code",
      "metadata": {
        "id": "SOtxe0uRoq-R"
      },
      "source": [
        "# resumo estatístico\n",
        "micros[variavel].describe()"
      ],
      "execution_count": null,
      "outputs": []
    },
    {
      "cell_type": "code",
      "metadata": {
        "id": "8QoyuFQ1oq-S"
      },
      "source": [
        "micros[variavel].hist();"
      ],
      "execution_count": null,
      "outputs": []
    },
    {
      "cell_type": "code",
      "metadata": {
        "id": "wmc8VTspoq-S"
      },
      "source": [
        "# boxplot\n",
        "sns.boxplot(micros[variavel], orient='v');"
      ],
      "execution_count": null,
      "outputs": []
    },
    {
      "cell_type": "code",
      "metadata": {
        "id": "t5fB_DZmoq-S"
      },
      "source": [
        "# visualizar as regiões em ordem decrescente (ou crescente)\n",
        "micros.sort_values(variavel, ascending=False)[['nome_micro', variavel]].head(10)"
      ],
      "execution_count": null,
      "outputs": []
    },
    {
      "cell_type": "code",
      "metadata": {
        "id": "4AakiFekoq-S"
      },
      "source": [
        "# mapa temático - simples\n",
        "micros.plot(variavel, legend=True);"
      ],
      "execution_count": null,
      "outputs": []
    },
    {
      "cell_type": "code",
      "metadata": {
        "id": "hu_CDCQwoq-S"
      },
      "source": [
        "# mapa temático - quantiles\n",
        "micros.plot(column=variavel, figsize=(10, 10), scheme='Quantiles', cmap='OrRd', legend=True, k=4);"
      ],
      "execution_count": null,
      "outputs": []
    },
    {
      "cell_type": "code",
      "metadata": {
        "id": "HOFQ8o5xoq-T"
      },
      "source": [
        "# mapa temático - equal_interval\n",
        "micros.plot(column=variavel, figsize=(10, 10), scheme='Equal_Interval', cmap='OrRd', legend=True, k=4);"
      ],
      "execution_count": null,
      "outputs": []
    },
    {
      "cell_type": "code",
      "metadata": {
        "id": "Hta1KT4Goq-T"
      },
      "source": [
        "# obter matriz de vizinhança no formato queen\n",
        "w = Queen.from_dataframe(micros)\n",
        "w.transform = 'r'\n",
        "# calcular I de Moran global para a variável escolhida\n",
        "y = micros[variavel].values\n",
        "moran = Moran(y, w)\n",
        "moran.I"
      ],
      "execution_count": null,
      "outputs": []
    },
    {
      "cell_type": "code",
      "metadata": {
        "id": "HxHVWa0Doq-T"
      },
      "source": [
        "# valor-p\n",
        "moran.p_sim"
      ],
      "execution_count": null,
      "outputs": []
    },
    {
      "cell_type": "code",
      "metadata": {
        "id": "LVjNoP9qoq-T"
      },
      "source": [
        "# só o diagrama de dispersão\n",
        "moran_loc = Moran_Local(y, w)\n",
        "moran_scatterplot(moran_loc, p=0.05);"
      ],
      "execution_count": null,
      "outputs": []
    },
    {
      "cell_type": "code",
      "metadata": {
        "id": "53raESd_oq-T"
      },
      "source": [
        "# mapa LISA\n",
        "lisa_cluster(moran_loc, micros, p=0.05, figsize = (9,9));"
      ],
      "execution_count": null,
      "outputs": []
    },
    {
      "cell_type": "markdown",
      "metadata": {
        "id": "IJ0sr-wRkjtC"
      },
      "source": [
        "# Nível de agregação: regiões intermediárias"
      ]
    },
    {
      "cell_type": "code",
      "source": [
        "mg.columns"
      ],
      "metadata": {
        "id": "Z7L_rrxDk1OH"
      },
      "execution_count": null,
      "outputs": []
    },
    {
      "cell_type": "code",
      "metadata": {
        "id": "-ek0kPNckjtD"
      },
      "source": [
        "# agrupar municípios em regiões intermediárias\n",
        "# mapa contém as informações divididas em municípios e queremos unir os\n",
        "# municípios em regiões intermediárias\n",
        "# uso da função dissolve\n",
        "# somar os valores dos municípios presentes em cada região intermediária\n",
        "rgints = mg.dissolve(by=['cod_rgint', 'nome_rgint'], aggfunc='sum')\n",
        "rgints.head(3)"
      ],
      "execution_count": null,
      "outputs": []
    },
    {
      "cell_type": "code",
      "metadata": {
        "id": "GIuF_hnNkjtD"
      },
      "source": [
        "# reiniciar índices e retirar as colunas que não serão usadas\n",
        "rgints = rgints.reset_index()"
      ],
      "execution_count": null,
      "outputs": []
    },
    {
      "cell_type": "code",
      "metadata": {
        "id": "7rMFB4k8kjtE"
      },
      "source": [
        "# resumo estatístico\n",
        "rgints[variavel].describe()"
      ],
      "execution_count": null,
      "outputs": []
    },
    {
      "cell_type": "code",
      "metadata": {
        "id": "AwTieX7ikjtE"
      },
      "source": [
        "rgints[variavel].hist();"
      ],
      "execution_count": null,
      "outputs": []
    },
    {
      "cell_type": "code",
      "metadata": {
        "id": "JZMLfKgHkjtE"
      },
      "source": [
        "# boxplot\n",
        "sns.boxplot(rgints[variavel], orient='v');"
      ],
      "execution_count": null,
      "outputs": []
    },
    {
      "cell_type": "code",
      "metadata": {
        "id": "CCv3t52WkjtE"
      },
      "source": [
        "# visualizar as regiões em ordem decrescente (ou crescente)\n",
        "rgints.sort_values(variavel, ascending=False)[['nome_rgint', variavel]].head(10)"
      ],
      "execution_count": null,
      "outputs": []
    },
    {
      "cell_type": "code",
      "metadata": {
        "id": "coFzZ21QkjtF"
      },
      "source": [
        "# mapa temático - simples\n",
        "rgints.plot(variavel, legend=True);"
      ],
      "execution_count": null,
      "outputs": []
    },
    {
      "cell_type": "code",
      "metadata": {
        "id": "ttmzZ7bVkjtF"
      },
      "source": [
        "# mapa temático - quantiles\n",
        "rgints.plot(column=variavel, figsize=(10, 10), scheme='Quantiles', cmap='OrRd', legend=True, k=4);"
      ],
      "execution_count": null,
      "outputs": []
    },
    {
      "cell_type": "code",
      "metadata": {
        "id": "wwBmbibBkjtF"
      },
      "source": [
        "# mapa temático - equal_interval\n",
        "rgints.plot(column=variavel, figsize=(10, 10), scheme='Equal_Interval', cmap='OrRd', legend=True, k=4);"
      ],
      "execution_count": null,
      "outputs": []
    },
    {
      "cell_type": "code",
      "metadata": {
        "id": "87av3qHhkjtF"
      },
      "source": [
        "# obter matriz de vizinhança no formato queen\n",
        "w = Queen.from_dataframe(rgints)\n",
        "w.transform = 'r'\n",
        "# calcular I de Moran global para a variável escolhida\n",
        "y = rgints[variavel].values\n",
        "moran = Moran(y, w)\n",
        "moran.I"
      ],
      "execution_count": null,
      "outputs": []
    },
    {
      "cell_type": "code",
      "metadata": {
        "id": "wF0X-FPkkjtF"
      },
      "source": [
        "# valor-p\n",
        "moran.p_sim"
      ],
      "execution_count": null,
      "outputs": []
    },
    {
      "cell_type": "code",
      "metadata": {
        "id": "mhfaMUkHkjtG"
      },
      "source": [
        "# só o diagrama de dispersão\n",
        "moran_loc = Moran_Local(y, w)\n",
        "moran_scatterplot(moran_loc, p=0.05);"
      ],
      "execution_count": null,
      "outputs": []
    },
    {
      "cell_type": "code",
      "metadata": {
        "id": "ATMCunMYkjtG"
      },
      "source": [
        "# mapa LISA\n",
        "lisa_cluster(moran_loc, rgints, p=0.05, figsize = (9,9));"
      ],
      "execution_count": null,
      "outputs": []
    },
    {
      "cell_type": "markdown",
      "metadata": {
        "id": "XlzzbPX8pyXK"
      },
      "source": [
        "# Nível de agregação: regiões imediatas"
      ]
    },
    {
      "cell_type": "code",
      "source": [
        "mg.columns"
      ],
      "metadata": {
        "id": "JAvDLMsvpyXK"
      },
      "execution_count": null,
      "outputs": []
    },
    {
      "cell_type": "code",
      "metadata": {
        "id": "xRJn4OdipyXK"
      },
      "source": [
        "# somar os valores dos municípios presentes em cada região imediata\n",
        "rgis = mg.dissolve(by=['cod_rgi', 'nome_rgi'], aggfunc='sum')\n",
        "rgis.head(3)"
      ],
      "execution_count": null,
      "outputs": []
    },
    {
      "cell_type": "code",
      "metadata": {
        "id": "N6htG-BMpyXK"
      },
      "source": [
        "# reiniciar índices\n",
        "rgis = rgis.reset_index()"
      ],
      "execution_count": null,
      "outputs": []
    },
    {
      "cell_type": "code",
      "metadata": {
        "id": "H4Ja9BefpyXL"
      },
      "source": [
        "# resumo estatístico\n",
        "rgis[variavel].describe()"
      ],
      "execution_count": null,
      "outputs": []
    },
    {
      "cell_type": "code",
      "metadata": {
        "id": "lEm2OW5ppyXL"
      },
      "source": [
        "rgis[variavel].hist();"
      ],
      "execution_count": null,
      "outputs": []
    },
    {
      "cell_type": "code",
      "metadata": {
        "id": "QI2tNPSepyXL"
      },
      "source": [
        "# boxplot\n",
        "sns.boxplot(rgis[variavel], orient='v');"
      ],
      "execution_count": null,
      "outputs": []
    },
    {
      "cell_type": "code",
      "metadata": {
        "id": "FiK1jFVYpyXL"
      },
      "source": [
        "# visualizar as regiões em ordem decrescente (ou crescente)\n",
        "rgis.sort_values(variavel, ascending=False)[['nome_rgi', variavel]].head(10)"
      ],
      "execution_count": null,
      "outputs": []
    },
    {
      "cell_type": "code",
      "metadata": {
        "id": "RqzgvPUdpyXL"
      },
      "source": [
        "# mapa temático - simples\n",
        "rgis.plot(variavel, legend=True);"
      ],
      "execution_count": null,
      "outputs": []
    },
    {
      "cell_type": "code",
      "metadata": {
        "id": "nWJhfg3upyXL"
      },
      "source": [
        "# mapa temático - quantiles\n",
        "rgis.plot(column=variavel, figsize=(10, 10), scheme='Quantiles', cmap='OrRd', legend=True, k=4);"
      ],
      "execution_count": null,
      "outputs": []
    },
    {
      "cell_type": "code",
      "metadata": {
        "id": "qKEbidY8pyXL"
      },
      "source": [
        "# mapa temático - equal_interval\n",
        "rgis.plot(column=variavel, figsize=(10, 10), scheme='Equal_Interval', cmap='OrRd', legend=True, k=4);"
      ],
      "execution_count": null,
      "outputs": []
    },
    {
      "cell_type": "code",
      "metadata": {
        "id": "2-LW0uAYpyXM"
      },
      "source": [
        "# obter matriz de vizinhança no formato queen\n",
        "w = Queen.from_dataframe(rgis)\n",
        "w.transform = 'r'\n",
        "# calcular I de Moran global para a variável escolhida\n",
        "y = rgis[variavel].values\n",
        "moran = Moran(y, w)\n",
        "moran.I"
      ],
      "execution_count": null,
      "outputs": []
    },
    {
      "cell_type": "code",
      "metadata": {
        "id": "rL5_vYC9pyXM"
      },
      "source": [
        "# valor-p\n",
        "moran.p_sim"
      ],
      "execution_count": null,
      "outputs": []
    },
    {
      "cell_type": "code",
      "metadata": {
        "id": "RY2MfAdhpyXM"
      },
      "source": [
        "# só o diagrama de dispersão\n",
        "moran_loc = Moran_Local(y, w)\n",
        "moran_scatterplot(moran_loc, p=0.05);"
      ],
      "execution_count": null,
      "outputs": []
    },
    {
      "cell_type": "code",
      "metadata": {
        "id": "WNSRQDtppyXM"
      },
      "source": [
        "# mapa LISA\n",
        "lisa_cluster(moran_loc, rgis, p=0.05, figsize = (9,9));"
      ],
      "execution_count": null,
      "outputs": []
    },
    {
      "cell_type": "markdown",
      "source": [
        "# Apenas LISA em diferentes níveis de agregação"
      ],
      "metadata": {
        "id": "laYrQ1_mpOmP"
      }
    },
    {
      "cell_type": "code",
      "source": [
        "results = []"
      ],
      "metadata": {
        "id": "MNcEhOjCElLn"
      },
      "execution_count": null,
      "outputs": []
    },
    {
      "cell_type": "code",
      "metadata": {
        "id": "cry13fpGnotA"
      },
      "source": [
        "w = Queen.from_dataframe(mg)\n",
        "w.transform = 'r'\n",
        "y = mg[variavel].values\n",
        "moran = Moran(y, w)\n",
        "moran_loc = Moran_Local(y, w)\n",
        "lisa_cluster(moran_loc, mg, p=0.05, figsize = (9,9));\n",
        "print(moran.I, moran.p_sim)\n",
        "results.append([moran.I, moran.p_sim])"
      ],
      "execution_count": null,
      "outputs": []
    },
    {
      "cell_type": "code",
      "source": [
        "w = Queen.from_dataframe(mesos)\n",
        "w.transform = 'r'\n",
        "y = mesos[variavel].values\n",
        "moran = Moran(y, w)\n",
        "moran_loc = Moran_Local(y, w)\n",
        "lisa_cluster(moran_loc, mesos, p=0.05, figsize = (9,9));\n",
        "print(moran.I, moran.p_sim)\n",
        "results.append([moran.I, moran.p_sim])"
      ],
      "metadata": {
        "id": "PnoF6ZHGn9AQ"
      },
      "execution_count": null,
      "outputs": []
    },
    {
      "cell_type": "code",
      "source": [
        "w = Queen.from_dataframe(micros)\n",
        "w.transform = 'r'\n",
        "y = micros[variavel].values\n",
        "moran = Moran(y, w)\n",
        "moran_loc = Moran_Local(y, w)\n",
        "lisa_cluster(moran_loc, micros, p=0.05, figsize = (9,9));\n",
        "print(moran.I, moran.p_sim)\n",
        "results.append([moran.I, moran.p_sim])"
      ],
      "metadata": {
        "id": "gskFaC5MoAb_"
      },
      "execution_count": null,
      "outputs": []
    },
    {
      "cell_type": "code",
      "source": [
        "w = Queen.from_dataframe(rgints)\n",
        "w.transform = 'r'\n",
        "y = rgints[variavel].values\n",
        "moran = Moran(y, w)\n",
        "moran_loc = Moran_Local(y, w)\n",
        "lisa_cluster(moran_loc, rgints, p=0.05, figsize = (9,9));\n",
        "print(moran.I, moran.p_sim)\n",
        "results.append([moran.I, moran.p_sim])"
      ],
      "metadata": {
        "id": "65ZpOXjnpafn"
      },
      "execution_count": null,
      "outputs": []
    },
    {
      "cell_type": "code",
      "source": [
        "w = Queen.from_dataframe(rgis)\n",
        "w.transform = 'r'\n",
        "y = rgis[variavel].values\n",
        "moran = Moran(y, w)\n",
        "moran_loc = Moran_Local(y, w)\n",
        "lisa_cluster(moran_loc, rgis, p=0.05, figsize = (9,9));\n",
        "print(moran.I, moran.p_sim)\n",
        "results.append([moran.I, moran.p_sim])"
      ],
      "metadata": {
        "id": "6UFz2c88zM2a"
      },
      "execution_count": null,
      "outputs": []
    },
    {
      "cell_type": "code",
      "source": [
        "results"
      ],
      "metadata": {
        "id": "-zsXwxzRE0Ea"
      },
      "execution_count": null,
      "outputs": []
    },
    {
      "cell_type": "code",
      "source": [
        "# dicionário de dataframes\n",
        "niveis = {\n",
        "  'mg': mg,\n",
        "  'mesos': mesos,\n",
        "  'micros': micros,\n",
        "  'rgints': rgints,\n",
        "  'rgis': rgis\n",
        "}"
      ],
      "metadata": {
        "id": "z_UJirQ11shL"
      },
      "execution_count": null,
      "outputs": []
    },
    {
      "cell_type": "code",
      "source": [
        "for k in niveis.keys():\n",
        "    w = Queen.from_dataframe(niveis[k])\n",
        "    w.transform = 'r'\n",
        "    y = niveis[k][variavel].values\n",
        "    moran = Moran(y, w)\n",
        "    moran_loc = Moran_Local(y, w)\n",
        "    lisa_cluster(moran_loc, niveis[k], p=0.05, figsize = (9,9));"
      ],
      "metadata": {
        "id": "QzEEHCc03jdv"
      },
      "execution_count": null,
      "outputs": []
    },
    {
      "cell_type": "code",
      "source": [
        "results"
      ],
      "metadata": {
        "id": "zUiFq-z39UeZ"
      },
      "execution_count": null,
      "outputs": []
    },
    {
      "cell_type": "code",
      "source": [
        "# dicionário de dataframes\n",
        "niveis = {\n",
        "  'mg': mg,\n",
        "  'mesos': mesos,\n",
        "  'micros': micros,\n",
        "  'rgints': rgints,\n",
        "  'rgis': rgis\n",
        "}"
      ],
      "metadata": {
        "id": "XdJV6woR9UeZ"
      },
      "execution_count": null,
      "outputs": []
    },
    {
      "cell_type": "code",
      "source": [
        "for k in niveis.keys():\n",
        "    w = Queen.from_dataframe(niveis[k])\n",
        "    w.transform = 'r'\n",
        "    y = niveis[k][variavel].values\n",
        "    moran = Moran(y, w)\n",
        "    moran_loc = Moran_Local(y, w)\n",
        "    lisa_cluster(moran_loc, niveis[k], p=0.05, figsize = (9,9));"
      ],
      "metadata": {
        "id": "3fPljXNy9UeZ"
      },
      "execution_count": null,
      "outputs": []
    },
    {
      "cell_type": "markdown",
      "source": [
        "# Inclusão dos nomes - LISA"
      ],
      "metadata": {
        "id": "4H4rVyVb9JD7"
      }
    },
    {
      "cell_type": "code",
      "source": [
        "# para evitar problemas com os nomes: https://gis.stackexchange.com/questions/372564/userwarning-when-trying-to-get-centroid-from-a-polygon-geopandas\n",
        "mg = mg.to_crs(epsg=3395)\n",
        "mesos = mesos.to_crs(epsg=3395)\n",
        "micros = micros.to_crs(epsg=3395)\n",
        "rgints = rgints.to_crs(epsg=3395)\n",
        "rgis = rgis.to_crs(epsg=3395)"
      ],
      "metadata": {
        "id": "M1BsD-ou9hO8"
      },
      "execution_count": null,
      "outputs": []
    },
    {
      "cell_type": "code",
      "metadata": {
        "id": "RudedsoX9UeX"
      },
      "source": [
        "# municípios\n",
        "w = Queen.from_dataframe(mg)\n",
        "w.transform = 'r'\n",
        "y = mg[variavel].values\n",
        "moran = Moran(y, w)\n",
        "moran_loc = Moran_Local(y, w)\n",
        "\n",
        "fig, ax = plt.subplots(1, figsize=(15, 15))\n",
        "lisa_cluster(moran_loc, mg, p=0.05, ax=ax, figsize = (9,9));\n",
        "sig = moran_loc.p_sim < 0.05\n",
        "posicoes = np.where(sig)\n",
        "escolhidos = mg.iloc[posicoes[0]]\n",
        "for j in escolhidos.index:\n",
        "    ax.text(escolhidos.geometry.centroid[j].coords[0][0], escolhidos.geometry.centroid[j].coords[0][1],\n",
        "         escolhidos.nome_mun[j],\n",
        "         fontsize=10, horizontalalignment='center', verticalalignment='bottom')"
      ],
      "execution_count": null,
      "outputs": []
    },
    {
      "cell_type": "code",
      "source": [
        "w = Queen.from_dataframe(mesos)\n",
        "w.transform = 'r'\n",
        "y = mesos[variavel].values\n",
        "moran = Moran(y, w)\n",
        "moran_loc = Moran_Local(y, w)\n",
        "\n",
        "fig, ax = plt.subplots(1, figsize=(15, 15))\n",
        "lisa_cluster(moran_loc, mesos, p=0.05, ax=ax, figsize = (9,9));\n",
        "sig = moran_loc.p_sim < 0.05\n",
        "posicoes = np.where(sig)\n",
        "escolhidos = mesos.iloc[posicoes[0]]\n",
        "for j in escolhidos.index:\n",
        "    ax.text(escolhidos.geometry.centroid[j].coords[0][0], escolhidos.geometry.centroid[j].coords[0][1],\n",
        "         escolhidos.nome_meso[j],\n",
        "         fontsize=10, horizontalalignment='center', verticalalignment='bottom')"
      ],
      "metadata": {
        "id": "9VlzRQms9UeX"
      },
      "execution_count": null,
      "outputs": []
    },
    {
      "cell_type": "code",
      "source": [
        "w = Queen.from_dataframe(micros)\n",
        "w.transform = 'r'\n",
        "y = micros[variavel].values\n",
        "moran = Moran(y, w)\n",
        "moran_loc = Moran_Local(y, w)\n",
        "\n",
        "fig, ax = plt.subplots(1, figsize=(15, 15))\n",
        "lisa_cluster(moran_loc, micros, p=0.05, ax=ax, figsize = (9,9));\n",
        "sig = moran_loc.p_sim < 0.05\n",
        "posicoes = np.where(sig)\n",
        "escolhidos = micros.iloc[posicoes[0]]\n",
        "for j in escolhidos.index:\n",
        "    ax.text(escolhidos.geometry.centroid[j].coords[0][0], escolhidos.geometry.centroid[j].coords[0][1],\n",
        "         escolhidos.nome_micro[j],\n",
        "         fontsize=10, horizontalalignment='center', verticalalignment='bottom')"
      ],
      "metadata": {
        "id": "Rs-S6fZo9UeY"
      },
      "execution_count": null,
      "outputs": []
    },
    {
      "cell_type": "code",
      "source": [
        "w = Queen.from_dataframe(rgints)\n",
        "w.transform = 'r'\n",
        "y = rgints[variavel].values\n",
        "moran = Moran(y, w)\n",
        "moran_loc = Moran_Local(y, w)\n",
        "\n",
        "fig, ax = plt.subplots(1, figsize=(15, 15))\n",
        "lisa_cluster(moran_loc, rgints, p=0.05, ax=ax, figsize = (9,9));\n",
        "sig = moran_loc.p_sim < 0.05\n",
        "posicoes = np.where(sig)\n",
        "escolhidos = rgints.iloc[posicoes[0]]\n",
        "for j in escolhidos.index:\n",
        "    ax.text(escolhidos.geometry.centroid[j].coords[0][0], escolhidos.geometry.centroid[j].coords[0][1],\n",
        "         escolhidos.nome_rgint[j],\n",
        "         fontsize=10, horizontalalignment='center', verticalalignment='bottom')"
      ],
      "metadata": {
        "id": "42CdRHd-9UeY"
      },
      "execution_count": null,
      "outputs": []
    },
    {
      "cell_type": "code",
      "source": [
        "w = Queen.from_dataframe(rgis)\n",
        "w.transform = 'r'\n",
        "y = rgis[variavel].values\n",
        "moran = Moran(y, w)\n",
        "moran_loc = Moran_Local(y, w)\n",
        "\n",
        "fig, ax = plt.subplots(1, figsize=(15, 15))\n",
        "lisa_cluster(moran_loc, rgis, p=0.05, ax=ax, figsize = (9,9));\n",
        "sig = moran_loc.p_sim < 0.05\n",
        "posicoes = np.where(sig)\n",
        "escolhidos = rgis.iloc[posicoes[0]]\n",
        "for j in escolhidos.index:\n",
        "    ax.text(escolhidos.geometry.centroid[j].coords[0][0], escolhidos.geometry.centroid[j].coords[0][1],\n",
        "         escolhidos.nome_rgi[j],\n",
        "         fontsize=10, horizontalalignment='center', verticalalignment='bottom')"
      ],
      "metadata": {
        "id": "obWoQXo59UeY"
      },
      "execution_count": null,
      "outputs": []
    },
    {
      "cell_type": "code",
      "source": [],
      "metadata": {
        "id": "IdhCvsfF9UeZ"
      },
      "execution_count": null,
      "outputs": []
    }
  ]
}