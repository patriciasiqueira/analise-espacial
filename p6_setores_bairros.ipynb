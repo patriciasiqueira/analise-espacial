{
  "nbformat": 4,
  "nbformat_minor": 0,
  "metadata": {
    "colab": {
      "provenance": []
    },
    "kernelspec": {
      "display_name": "Python 3",
      "language": "python",
      "name": "python3"
    }
  },
  "cells": [
    {
      "cell_type": "markdown",
      "source": [
        "# Divisão de um município em setores censitários e bairros"
      ],
      "metadata": {
        "id": "TfGTcBzbZFfi"
      }
    },
    {
      "cell_type": "markdown",
      "source": [
        "Itens a serem vistos:\n",
        "\n",
        "- como baixar as malhas de outros estados do Brasil\n",
        "- como baixar o arquivo com as variáveis divididas por setores censitários de MG\n",
        "- plotar bairros de Varginha (divisão por setores)\n",
        "- plotar nomes dos bairros de outros municípios de MG (Passos e BH)\n",
        "- arquivo 'basico_MG.csv' do IBGE\n",
        "- unir as informações geográficas dos setores de VGN com o 'basico_MG.csv'"
      ],
      "metadata": {
        "id": "18yvz0srM03b"
      }
    },
    {
      "cell_type": "markdown",
      "metadata": {
        "id": "KC63Yez5uO-4"
      },
      "source": [
        "### Setores censitários"
      ]
    },
    {
      "cell_type": "markdown",
      "metadata": {
        "id": "DVKZCs0vuO-6"
      },
      "source": [
        "Para baixar as malhas dos outros estados do Brasil ir em:\n",
        "\n",
        "https://geoftp.ibge.gov.br/organizacao_do_territorio/malhas_territoriais/malhas_de_setores_censitarios__divisoes_intramunicipais/censo_2010/setores_censitarios_shp/\n",
        "\n",
        "Para baixar o arquivo com as variáveis por setores censitários em MG:\n",
        "\n",
        "https://ftp.ibge.gov.br/Censos/Censo_Demografico_2010/Resultados_do_Universo/Agregados_por_Setores_Censitarios/"
      ]
    },
    {
      "cell_type": "code",
      "metadata": {
        "id": "ub1LAdZM13tQ",
        "colab": {
          "base_uri": "https://localhost:8080/"
        },
        "outputId": "ab50ad1b-18ff-4974-9576-06ca87d20f8c"
      },
      "source": [
        "!pip install geopandas shapely mapclassify libpysal splot esda pysal\n",
        "!pip install --upgrade pyshp\n",
        "!pip install --upgrade descartes"
      ],
      "execution_count": null,
      "outputs": [
        {
          "output_type": "stream",
          "name": "stdout",
          "text": [
            "Requirement already satisfied: geopandas in /usr/local/lib/python3.7/dist-packages (0.10.2)\n",
            "Requirement already satisfied: shapely in /usr/local/lib/python3.7/dist-packages (1.8.1.post1)\n",
            "Requirement already satisfied: mapclassify in /usr/local/lib/python3.7/dist-packages (2.4.3)\n",
            "Requirement already satisfied: libpysal in /usr/local/lib/python3.7/dist-packages (4.6.2)\n",
            "Requirement already satisfied: splot in /usr/local/lib/python3.7/dist-packages (1.1.4)\n",
            "Requirement already satisfied: esda in /usr/local/lib/python3.7/dist-packages (2.4.1)\n",
            "Requirement already satisfied: pysal in /usr/local/lib/python3.7/dist-packages (2.6.0)\n",
            "Requirement already satisfied: pandas>=0.25.0 in /usr/local/lib/python3.7/dist-packages (from geopandas) (1.3.5)\n",
            "Requirement already satisfied: pyproj>=2.2.0 in /usr/local/lib/python3.7/dist-packages (from geopandas) (3.2.1)\n",
            "Requirement already satisfied: fiona>=1.8 in /usr/local/lib/python3.7/dist-packages (from geopandas) (1.8.21)\n",
            "Requirement already satisfied: attrs>=17 in /usr/local/lib/python3.7/dist-packages (from fiona>=1.8->geopandas) (21.4.0)\n",
            "Requirement already satisfied: cligj>=0.5 in /usr/local/lib/python3.7/dist-packages (from fiona>=1.8->geopandas) (0.7.2)\n",
            "Requirement already satisfied: click>=4.0 in /usr/local/lib/python3.7/dist-packages (from fiona>=1.8->geopandas) (7.1.2)\n",
            "Requirement already satisfied: setuptools in /usr/local/lib/python3.7/dist-packages (from fiona>=1.8->geopandas) (57.4.0)\n",
            "Requirement already satisfied: click-plugins>=1.0 in /usr/local/lib/python3.7/dist-packages (from fiona>=1.8->geopandas) (1.1.1)\n",
            "Requirement already satisfied: six>=1.7 in /usr/local/lib/python3.7/dist-packages (from fiona>=1.8->geopandas) (1.15.0)\n",
            "Requirement already satisfied: munch in /usr/local/lib/python3.7/dist-packages (from fiona>=1.8->geopandas) (2.5.0)\n",
            "Requirement already satisfied: certifi in /usr/local/lib/python3.7/dist-packages (from fiona>=1.8->geopandas) (2021.10.8)\n",
            "Requirement already satisfied: numpy>=1.17.3 in /usr/local/lib/python3.7/dist-packages (from pandas>=0.25.0->geopandas) (1.21.5)\n",
            "Requirement already satisfied: python-dateutil>=2.7.3 in /usr/local/lib/python3.7/dist-packages (from pandas>=0.25.0->geopandas) (2.8.2)\n",
            "Requirement already satisfied: pytz>=2017.3 in /usr/local/lib/python3.7/dist-packages (from pandas>=0.25.0->geopandas) (2018.9)\n",
            "Requirement already satisfied: scipy>=1.0 in /usr/local/lib/python3.7/dist-packages (from mapclassify) (1.4.1)\n",
            "Requirement already satisfied: networkx in /usr/local/lib/python3.7/dist-packages (from mapclassify) (2.6.3)\n",
            "Requirement already satisfied: scikit-learn in /usr/local/lib/python3.7/dist-packages (from mapclassify) (1.0.2)\n",
            "Requirement already satisfied: appdirs in /usr/local/lib/python3.7/dist-packages (from libpysal) (1.4.4)\n",
            "Requirement already satisfied: packaging in /usr/local/lib/python3.7/dist-packages (from libpysal) (21.3)\n",
            "Requirement already satisfied: requests in /usr/local/lib/python3.7/dist-packages (from libpysal) (2.23.0)\n",
            "Requirement already satisfied: beautifulsoup4 in /usr/local/lib/python3.7/dist-packages (from libpysal) (4.6.3)\n",
            "Requirement already satisfied: jinja2 in /usr/local/lib/python3.7/dist-packages (from libpysal) (2.11.3)\n",
            "Requirement already satisfied: matplotlib in /usr/local/lib/python3.7/dist-packages (from splot) (3.2.2)\n",
            "Requirement already satisfied: descartes in /usr/local/lib/python3.7/dist-packages (from splot) (1.1.0)\n",
            "Requirement already satisfied: giddy in /usr/local/lib/python3.7/dist-packages (from splot) (2.3.3)\n",
            "Requirement already satisfied: spreg in /usr/local/lib/python3.7/dist-packages (from splot) (1.2.4)\n",
            "Requirement already satisfied: seaborn in /usr/local/lib/python3.7/dist-packages (from splot) (0.11.2)\n",
            "Requirement already satisfied: access>=1.1.3 in /usr/local/lib/python3.7/dist-packages (from pysal) (1.1.3)\n",
            "Requirement already satisfied: spvcm>=0.3.0 in /usr/local/lib/python3.7/dist-packages (from pysal) (0.3.0)\n",
            "Requirement already satisfied: segregation>=2.1.0 in /usr/local/lib/python3.7/dist-packages (from pysal) (2.1.0)\n",
            "Requirement already satisfied: momepy>=0.5.2 in /usr/local/lib/python3.7/dist-packages (from pysal) (0.5.2)\n",
            "Requirement already satisfied: spint>=1.0.7 in /usr/local/lib/python3.7/dist-packages (from pysal) (1.0.7)\n",
            "Requirement already satisfied: inequality>=1.0.0 in /usr/local/lib/python3.7/dist-packages (from pysal) (1.0.0)\n",
            "Requirement already satisfied: mgwr>=2.1.2 in /usr/local/lib/python3.7/dist-packages (from pysal) (2.1.2)\n",
            "Requirement already satisfied: spaghetti>=1.6.5 in /usr/local/lib/python3.7/dist-packages (from pysal) (1.6.5)\n",
            "Requirement already satisfied: spglm>=1.0.8 in /usr/local/lib/python3.7/dist-packages (from pysal) (1.0.8)\n",
            "Requirement already satisfied: tobler>=0.8.2 in /usr/local/lib/python3.7/dist-packages (from pysal) (0.9.0)\n",
            "Requirement already satisfied: spopt>=0.2.1 in /usr/local/lib/python3.7/dist-packages (from pysal) (0.2.1)\n",
            "Requirement already satisfied: pointpats>=2.2.0 in /usr/local/lib/python3.7/dist-packages (from pysal) (2.2.0)\n",
            "Requirement already satisfied: quantecon>=0.4.7 in /usr/local/lib/python3.7/dist-packages (from giddy->splot) (0.5.2)\n",
            "Requirement already satisfied: tqdm>=4.27.0 in /usr/local/lib/python3.7/dist-packages (from momepy>=0.5.2->pysal) (4.63.0)\n",
            "Requirement already satisfied: pygeos in /usr/local/lib/python3.7/dist-packages (from momepy>=0.5.2->pysal) (0.12.0)\n",
            "Requirement already satisfied: opencv-contrib-python>=4.2.0 in /usr/local/lib/python3.7/dist-packages (from pointpats>=2.2.0->pysal) (4.5.5.64)\n",
            "Requirement already satisfied: numba>=0.38 in /usr/local/lib/python3.7/dist-packages (from quantecon>=0.4.7->giddy->splot) (0.51.2)\n",
            "Requirement already satisfied: sympy in /usr/local/lib/python3.7/dist-packages (from quantecon>=0.4.7->giddy->splot) (1.7.1)\n",
            "Requirement already satisfied: llvmlite<0.35,>=0.34.0.dev0 in /usr/local/lib/python3.7/dist-packages (from numba>=0.38->quantecon>=0.4.7->giddy->splot) (0.34.0)\n",
            "Requirement already satisfied: deprecation in /usr/local/lib/python3.7/dist-packages (from segregation>=2.1.0->pysal) (2.1.0)\n",
            "Requirement already satisfied: quilt3 in /usr/local/lib/python3.7/dist-packages (from segregation>=2.1.0->pysal) (4.1.0)\n",
            "Requirement already satisfied: joblib in /usr/local/lib/python3.7/dist-packages (from segregation>=2.1.0->pysal) (1.1.0)\n",
            "Requirement already satisfied: rvlib>=0.0.5 in /usr/local/lib/python3.7/dist-packages (from segregation>=2.1.0->pysal) (0.0.6)\n",
            "Requirement already satisfied: pip in /usr/local/lib/python3.7/dist-packages (from segregation>=2.1.0->pysal) (21.1.3)\n",
            "Requirement already satisfied: cffi>=1.0.0 in /usr/local/lib/python3.7/dist-packages (from rvlib>=0.0.5->segregation>=2.1.0->pysal) (1.15.0)\n",
            "Requirement already satisfied: PyYAML in /usr/local/lib/python3.7/dist-packages (from rvlib>=0.0.5->segregation>=2.1.0->pysal) (6.0)\n",
            "Requirement already satisfied: pycparser in /usr/local/lib/python3.7/dist-packages (from cffi>=1.0.0->rvlib>=0.0.5->segregation>=2.1.0->pysal) (2.21)\n",
            "Requirement already satisfied: threadpoolctl>=2.0.0 in /usr/local/lib/python3.7/dist-packages (from scikit-learn->mapclassify) (3.1.0)\n",
            "Requirement already satisfied: rtree in /usr/local/lib/python3.7/dist-packages (from spaghetti>=1.6.5->pysal) (0.9.7)\n",
            "Requirement already satisfied: pulp in /usr/local/lib/python3.7/dist-packages (from spopt>=0.2.1->pysal) (2.6.0)\n",
            "Requirement already satisfied: statsmodels in /usr/local/lib/python3.7/dist-packages (from tobler>=0.8.2->pysal) (0.10.2)\n",
            "Requirement already satisfied: rasterio in /usr/local/lib/python3.7/dist-packages (from tobler>=0.8.2->pysal) (1.2.10)\n",
            "Requirement already satisfied: rasterstats in /usr/local/lib/python3.7/dist-packages (from tobler>=0.8.2->pysal) (0.16.0)\n",
            "Requirement already satisfied: MarkupSafe>=0.23 in /usr/local/lib/python3.7/dist-packages (from jinja2->libpysal) (2.0.1)\n",
            "Requirement already satisfied: pyparsing!=2.0.4,!=2.1.2,!=2.1.6,>=2.0.1 in /usr/local/lib/python3.7/dist-packages (from matplotlib->splot) (3.0.7)\n",
            "Requirement already satisfied: cycler>=0.10 in /usr/local/lib/python3.7/dist-packages (from matplotlib->splot) (0.11.0)\n",
            "Requirement already satisfied: kiwisolver>=1.0.1 in /usr/local/lib/python3.7/dist-packages (from matplotlib->splot) (1.3.2)\n",
            "Requirement already satisfied: requests-futures==1.0.0 in /usr/local/lib/python3.7/dist-packages (from quilt3->segregation>=2.1.0->pysal) (1.0.0)\n",
            "Requirement already satisfied: boto3>=1.10.0 in /usr/local/lib/python3.7/dist-packages (from quilt3->segregation>=2.1.0->pysal) (1.21.18)\n",
            "Requirement already satisfied: jsonschema<5,>=3 in /usr/local/lib/python3.7/dist-packages (from quilt3->segregation>=2.1.0->pysal) (4.3.3)\n",
            "Requirement already satisfied: jsonlines==1.2.0 in /usr/local/lib/python3.7/dist-packages (from quilt3->segregation>=2.1.0->pysal) (1.2.0)\n",
            "Requirement already satisfied: tenacity>=5.1.1 in /usr/local/lib/python3.7/dist-packages (from quilt3->segregation>=2.1.0->pysal) (8.0.1)\n",
            "Requirement already satisfied: aws-requests-auth>=0.4.2 in /usr/local/lib/python3.7/dist-packages (from quilt3->segregation>=2.1.0->pysal) (0.4.3)\n",
            "Requirement already satisfied: botocore<1.25.0,>=1.24.18 in /usr/local/lib/python3.7/dist-packages (from boto3>=1.10.0->quilt3->segregation>=2.1.0->pysal) (1.24.18)\n",
            "Requirement already satisfied: jmespath<1.0.0,>=0.7.1 in /usr/local/lib/python3.7/dist-packages (from boto3>=1.10.0->quilt3->segregation>=2.1.0->pysal) (0.10.0)\n",
            "Requirement already satisfied: s3transfer<0.6.0,>=0.5.0 in /usr/local/lib/python3.7/dist-packages (from boto3>=1.10.0->quilt3->segregation>=2.1.0->pysal) (0.5.2)\n",
            "Requirement already satisfied: urllib3<1.27,>=1.25.4 in /usr/local/lib/python3.7/dist-packages (from botocore<1.25.0,>=1.24.18->boto3>=1.10.0->quilt3->segregation>=2.1.0->pysal) (1.25.11)\n",
            "Requirement already satisfied: typing-extensions in /usr/local/lib/python3.7/dist-packages (from jsonschema<5,>=3->quilt3->segregation>=2.1.0->pysal) (3.10.0.2)\n",
            "Requirement already satisfied: importlib-resources>=1.4.0 in /usr/local/lib/python3.7/dist-packages (from jsonschema<5,>=3->quilt3->segregation>=2.1.0->pysal) (5.4.0)\n",
            "Requirement already satisfied: importlib-metadata in /usr/local/lib/python3.7/dist-packages (from jsonschema<5,>=3->quilt3->segregation>=2.1.0->pysal) (4.11.2)\n",
            "Requirement already satisfied: pyrsistent!=0.17.0,!=0.17.1,!=0.17.2,>=0.14.0 in /usr/local/lib/python3.7/dist-packages (from jsonschema<5,>=3->quilt3->segregation>=2.1.0->pysal) (0.18.1)\n",
            "Requirement already satisfied: zipp>=3.1.0 in /usr/local/lib/python3.7/dist-packages (from importlib-resources>=1.4.0->jsonschema<5,>=3->quilt3->segregation>=2.1.0->pysal) (3.7.0)\n",
            "Requirement already satisfied: idna<3,>=2.5 in /usr/local/lib/python3.7/dist-packages (from requests->libpysal) (2.10)\n",
            "Requirement already satisfied: chardet<4,>=3.0.2 in /usr/local/lib/python3.7/dist-packages (from requests->libpysal) (3.0.4)\n",
            "Requirement already satisfied: affine in /usr/local/lib/python3.7/dist-packages (from rasterio->tobler>=0.8.2->pysal) (2.3.0)\n",
            "Requirement already satisfied: snuggs>=1.4.1 in /usr/local/lib/python3.7/dist-packages (from rasterio->tobler>=0.8.2->pysal) (1.4.7)\n",
            "Requirement already satisfied: simplejson in /usr/local/lib/python3.7/dist-packages (from rasterstats->tobler>=0.8.2->pysal) (3.17.6)\n",
            "Requirement already satisfied: patsy>=0.4.0 in /usr/local/lib/python3.7/dist-packages (from statsmodels->tobler>=0.8.2->pysal) (0.5.2)\n",
            "Requirement already satisfied: mpmath>=0.19 in /usr/local/lib/python3.7/dist-packages (from sympy->quantecon>=0.4.7->giddy->splot) (1.2.1)\n",
            "Requirement already satisfied: pyshp in /usr/local/lib/python3.7/dist-packages (2.2.0)\n",
            "Requirement already satisfied: descartes in /usr/local/lib/python3.7/dist-packages (1.1.0)\n",
            "Requirement already satisfied: matplotlib in /usr/local/lib/python3.7/dist-packages (from descartes) (3.2.2)\n",
            "Requirement already satisfied: pyparsing!=2.0.4,!=2.1.2,!=2.1.6,>=2.0.1 in /usr/local/lib/python3.7/dist-packages (from matplotlib->descartes) (3.0.7)\n",
            "Requirement already satisfied: numpy>=1.11 in /usr/local/lib/python3.7/dist-packages (from matplotlib->descartes) (1.21.5)\n",
            "Requirement already satisfied: cycler>=0.10 in /usr/local/lib/python3.7/dist-packages (from matplotlib->descartes) (0.11.0)\n",
            "Requirement already satisfied: kiwisolver>=1.0.1 in /usr/local/lib/python3.7/dist-packages (from matplotlib->descartes) (1.3.2)\n",
            "Requirement already satisfied: python-dateutil>=2.1 in /usr/local/lib/python3.7/dist-packages (from matplotlib->descartes) (2.8.2)\n",
            "Requirement already satisfied: six>=1.5 in /usr/local/lib/python3.7/dist-packages (from python-dateutil>=2.1->matplotlib->descartes) (1.15.0)\n"
          ]
        }
      ]
    },
    {
      "cell_type": "code",
      "source": [
        "import pandas as pd\n",
        "import numpy as np\n",
        "from scipy import stats\n",
        "import statsmodels.formula.api as sm\n",
        "\n",
        "# para gráficos\n",
        "%matplotlib inline\n",
        "import matplotlib.pyplot as plt\n",
        "import seaborn as sns\n",
        "\n",
        "# para a análise de dados espaciais\n",
        "import geopandas as gp\n",
        "import pysal as ps\n",
        "import splot\n",
        "import mapclassify as mc\n",
        "from libpysal.weights import Queen\n",
        "from libpysal import weights\n",
        "from esda import Moran, Moran_Local, G_Local\n",
        "from splot.esda import plot_moran, moran_scatterplot, lisa_cluster, plot_local_autocorrelation\n",
        "\n",
        "# links com arquivos úteis\n",
        "link = 'https://raw.githubusercontent.com/lincolnfrias/dados/master/'\n",
        "link_p = 'https://raw.githubusercontent.com/patriciasiqueira/patriciasiqueira.github.io/master/arquivos/'"
      ],
      "metadata": {
        "id": "B_XkVHXZz0NO",
        "colab": {
          "base_uri": "https://localhost:8080/"
        },
        "outputId": "f4ee4e6f-d500-4cab-a419-0964b174696f"
      },
      "execution_count": null,
      "outputs": [
        {
          "output_type": "stream",
          "name": "stderr",
          "text": [
            "/usr/local/lib/python3.7/dist-packages/statsmodels/tools/_testing.py:19: FutureWarning: pandas.util.testing is deprecated. Use the functions in the public API at pandas.testing instead.\n",
            "  import pandas.util.testing as tm\n",
            "/usr/local/lib/python3.7/dist-packages/geopandas/_compat.py:115: UserWarning: The Shapely GEOS version (3.10.2-CAPI-1.16.0) is incompatible with the GEOS version PyGEOS was compiled with (3.10.1-CAPI-1.16.0). Conversions between both will be slow.\n",
            "  shapely_geos_version, geos_capi_version_string\n"
          ]
        }
      ]
    },
    {
      "cell_type": "code",
      "source": [
        "from google.colab import drive\n",
        "drive.mount('/content/drive')"
      ],
      "metadata": {
        "colab": {
          "base_uri": "https://localhost:8080/"
        },
        "id": "P7Kj4gRU1nBx",
        "outputId": "d47fc7d0-ed55-4e79-d1ed-1a5cad6e05a6"
      },
      "execution_count": null,
      "outputs": [
        {
          "output_type": "stream",
          "name": "stdout",
          "text": [
            "Drive already mounted at /content/drive; to attempt to forcibly remount, call drive.mount(\"/content/drive\", force_remount=True).\n"
          ]
        }
      ]
    },
    {
      "cell_type": "code",
      "source": [
        "# estado de Minas Gerais dividido em setores censitários\n",
        "setores = gp.read_file('/content/drive/My Drive/unifal/analise-espacial/dados/mg_setores_censitarios/31SEE250GC_SIR.shp')"
      ],
      "metadata": {
        "id": "Isc-SMXHysI1"
      },
      "execution_count": null,
      "outputs": []
    },
    {
      "cell_type": "code",
      "execution_count": null,
      "metadata": {
        "id": "DQsmQHqEuO-7"
      },
      "outputs": [],
      "source": [
        "# estado de Minas Gerais dividido em setores censitários\n",
        "# setores = gp.read_file('31SEE250GC_SIR.shp')"
      ]
    },
    {
      "cell_type": "code",
      "source": [
        "setores.head()"
      ],
      "metadata": {
        "id": "H8vQ4goGbQpy",
        "colab": {
          "base_uri": "https://localhost:8080/",
          "height": 617
        },
        "outputId": "b62d9dd7-cdfd-4372-fbbd-408063b2eb70"
      },
      "execution_count": null,
      "outputs": [
        {
          "output_type": "execute_result",
          "data": {
            "text/plain": [
              "   ID       CD_GEOCODI    TIPO    CD_GEOCODB     NM_BAIRRO   CD_GEOCODS  \\\n",
              "0   1  310010405000011   RURAL          None          None  31001040500   \n",
              "1   2  310010405000012   RURAL          None          None  31001040500   \n",
              "2   3  310010405000013   RURAL          None          None  31001040500   \n",
              "3   4  310020305000001  URBANO  310020305013  Zona Central  31002030500   \n",
              "4   5  310020305000002  URBANO  310020305006        Fátima  31002030500   \n",
              "\n",
              "  NM_SUBDIST CD_GEOCODD           NM_DISTRIT CD_GEOCODM           NM_MUNICIP  \\\n",
              "0       None  310010405  ABADIA DOS DOURADOS    3100104  ABADIA DOS DOURADOS   \n",
              "1       None  310010405  ABADIA DOS DOURADOS    3100104  ABADIA DOS DOURADOS   \n",
              "2       None  310010405  ABADIA DOS DOURADOS    3100104  ABADIA DOS DOURADOS   \n",
              "3       None  310020305               ABAETÉ    3100203               ABAETÉ   \n",
              "4       None  310020305               ABAETÉ    3100203               ABAETÉ   \n",
              "\n",
              "      NM_MICRO                           NM_MESO  \\\n",
              "0   PATROCÍNIO  TRIÂNGULO MINEIRO/ALTO PARANAÍBA   \n",
              "1   PATROCÍNIO  TRIÂNGULO MINEIRO/ALTO PARANAÍBA   \n",
              "2   PATROCÍNIO  TRIÂNGULO MINEIRO/ALTO PARANAÍBA   \n",
              "3  TRÊS MARIAS                   CENTRAL MINEIRA   \n",
              "4  TRÊS MARIAS                   CENTRAL MINEIRA   \n",
              "\n",
              "                                            geometry  \n",
              "0  POLYGON ((-47.57649 -18.22600, -47.57596 -18.2...  \n",
              "1  POLYGON ((-47.42967 -18.16543, -47.42943 -18.1...  \n",
              "2  POLYGON ((-47.42649 -18.29056, -47.42643 -18.2...  \n",
              "3  POLYGON ((-45.44671 -19.15200, -45.44651 -19.1...  \n",
              "4  POLYGON ((-45.44291 -19.15714, -45.44275 -19.1...  "
            ],
            "text/html": [
              "\n",
              "  <div id=\"df-f96ebd5d-0dec-4bdb-bdcd-90d134501551\">\n",
              "    <div class=\"colab-df-container\">\n",
              "      <div>\n",
              "<style scoped>\n",
              "    .dataframe tbody tr th:only-of-type {\n",
              "        vertical-align: middle;\n",
              "    }\n",
              "\n",
              "    .dataframe tbody tr th {\n",
              "        vertical-align: top;\n",
              "    }\n",
              "\n",
              "    .dataframe thead th {\n",
              "        text-align: right;\n",
              "    }\n",
              "</style>\n",
              "<table border=\"1\" class=\"dataframe\">\n",
              "  <thead>\n",
              "    <tr style=\"text-align: right;\">\n",
              "      <th></th>\n",
              "      <th>ID</th>\n",
              "      <th>CD_GEOCODI</th>\n",
              "      <th>TIPO</th>\n",
              "      <th>CD_GEOCODB</th>\n",
              "      <th>NM_BAIRRO</th>\n",
              "      <th>CD_GEOCODS</th>\n",
              "      <th>NM_SUBDIST</th>\n",
              "      <th>CD_GEOCODD</th>\n",
              "      <th>NM_DISTRIT</th>\n",
              "      <th>CD_GEOCODM</th>\n",
              "      <th>NM_MUNICIP</th>\n",
              "      <th>NM_MICRO</th>\n",
              "      <th>NM_MESO</th>\n",
              "      <th>geometry</th>\n",
              "    </tr>\n",
              "  </thead>\n",
              "  <tbody>\n",
              "    <tr>\n",
              "      <th>0</th>\n",
              "      <td>1</td>\n",
              "      <td>310010405000011</td>\n",
              "      <td>RURAL</td>\n",
              "      <td>None</td>\n",
              "      <td>None</td>\n",
              "      <td>31001040500</td>\n",
              "      <td>None</td>\n",
              "      <td>310010405</td>\n",
              "      <td>ABADIA DOS DOURADOS</td>\n",
              "      <td>3100104</td>\n",
              "      <td>ABADIA DOS DOURADOS</td>\n",
              "      <td>PATROCÍNIO</td>\n",
              "      <td>TRIÂNGULO MINEIRO/ALTO PARANAÍBA</td>\n",
              "      <td>POLYGON ((-47.57649 -18.22600, -47.57596 -18.2...</td>\n",
              "    </tr>\n",
              "    <tr>\n",
              "      <th>1</th>\n",
              "      <td>2</td>\n",
              "      <td>310010405000012</td>\n",
              "      <td>RURAL</td>\n",
              "      <td>None</td>\n",
              "      <td>None</td>\n",
              "      <td>31001040500</td>\n",
              "      <td>None</td>\n",
              "      <td>310010405</td>\n",
              "      <td>ABADIA DOS DOURADOS</td>\n",
              "      <td>3100104</td>\n",
              "      <td>ABADIA DOS DOURADOS</td>\n",
              "      <td>PATROCÍNIO</td>\n",
              "      <td>TRIÂNGULO MINEIRO/ALTO PARANAÍBA</td>\n",
              "      <td>POLYGON ((-47.42967 -18.16543, -47.42943 -18.1...</td>\n",
              "    </tr>\n",
              "    <tr>\n",
              "      <th>2</th>\n",
              "      <td>3</td>\n",
              "      <td>310010405000013</td>\n",
              "      <td>RURAL</td>\n",
              "      <td>None</td>\n",
              "      <td>None</td>\n",
              "      <td>31001040500</td>\n",
              "      <td>None</td>\n",
              "      <td>310010405</td>\n",
              "      <td>ABADIA DOS DOURADOS</td>\n",
              "      <td>3100104</td>\n",
              "      <td>ABADIA DOS DOURADOS</td>\n",
              "      <td>PATROCÍNIO</td>\n",
              "      <td>TRIÂNGULO MINEIRO/ALTO PARANAÍBA</td>\n",
              "      <td>POLYGON ((-47.42649 -18.29056, -47.42643 -18.2...</td>\n",
              "    </tr>\n",
              "    <tr>\n",
              "      <th>3</th>\n",
              "      <td>4</td>\n",
              "      <td>310020305000001</td>\n",
              "      <td>URBANO</td>\n",
              "      <td>310020305013</td>\n",
              "      <td>Zona Central</td>\n",
              "      <td>31002030500</td>\n",
              "      <td>None</td>\n",
              "      <td>310020305</td>\n",
              "      <td>ABAETÉ</td>\n",
              "      <td>3100203</td>\n",
              "      <td>ABAETÉ</td>\n",
              "      <td>TRÊS MARIAS</td>\n",
              "      <td>CENTRAL MINEIRA</td>\n",
              "      <td>POLYGON ((-45.44671 -19.15200, -45.44651 -19.1...</td>\n",
              "    </tr>\n",
              "    <tr>\n",
              "      <th>4</th>\n",
              "      <td>5</td>\n",
              "      <td>310020305000002</td>\n",
              "      <td>URBANO</td>\n",
              "      <td>310020305006</td>\n",
              "      <td>Fátima</td>\n",
              "      <td>31002030500</td>\n",
              "      <td>None</td>\n",
              "      <td>310020305</td>\n",
              "      <td>ABAETÉ</td>\n",
              "      <td>3100203</td>\n",
              "      <td>ABAETÉ</td>\n",
              "      <td>TRÊS MARIAS</td>\n",
              "      <td>CENTRAL MINEIRA</td>\n",
              "      <td>POLYGON ((-45.44291 -19.15714, -45.44275 -19.1...</td>\n",
              "    </tr>\n",
              "  </tbody>\n",
              "</table>\n",
              "</div>\n",
              "      <button class=\"colab-df-convert\" onclick=\"convertToInteractive('df-f96ebd5d-0dec-4bdb-bdcd-90d134501551')\"\n",
              "              title=\"Convert this dataframe to an interactive table.\"\n",
              "              style=\"display:none;\">\n",
              "        \n",
              "  <svg xmlns=\"http://www.w3.org/2000/svg\" height=\"24px\"viewBox=\"0 0 24 24\"\n",
              "       width=\"24px\">\n",
              "    <path d=\"M0 0h24v24H0V0z\" fill=\"none\"/>\n",
              "    <path d=\"M18.56 5.44l.94 2.06.94-2.06 2.06-.94-2.06-.94-.94-2.06-.94 2.06-2.06.94zm-11 1L8.5 8.5l.94-2.06 2.06-.94-2.06-.94L8.5 2.5l-.94 2.06-2.06.94zm10 10l.94 2.06.94-2.06 2.06-.94-2.06-.94-.94-2.06-.94 2.06-2.06.94z\"/><path d=\"M17.41 7.96l-1.37-1.37c-.4-.4-.92-.59-1.43-.59-.52 0-1.04.2-1.43.59L10.3 9.45l-7.72 7.72c-.78.78-.78 2.05 0 2.83L4 21.41c.39.39.9.59 1.41.59.51 0 1.02-.2 1.41-.59l7.78-7.78 2.81-2.81c.8-.78.8-2.07 0-2.86zM5.41 20L4 18.59l7.72-7.72 1.47 1.35L5.41 20z\"/>\n",
              "  </svg>\n",
              "      </button>\n",
              "      \n",
              "  <style>\n",
              "    .colab-df-container {\n",
              "      display:flex;\n",
              "      flex-wrap:wrap;\n",
              "      gap: 12px;\n",
              "    }\n",
              "\n",
              "    .colab-df-convert {\n",
              "      background-color: #E8F0FE;\n",
              "      border: none;\n",
              "      border-radius: 50%;\n",
              "      cursor: pointer;\n",
              "      display: none;\n",
              "      fill: #1967D2;\n",
              "      height: 32px;\n",
              "      padding: 0 0 0 0;\n",
              "      width: 32px;\n",
              "    }\n",
              "\n",
              "    .colab-df-convert:hover {\n",
              "      background-color: #E2EBFA;\n",
              "      box-shadow: 0px 1px 2px rgba(60, 64, 67, 0.3), 0px 1px 3px 1px rgba(60, 64, 67, 0.15);\n",
              "      fill: #174EA6;\n",
              "    }\n",
              "\n",
              "    [theme=dark] .colab-df-convert {\n",
              "      background-color: #3B4455;\n",
              "      fill: #D2E3FC;\n",
              "    }\n",
              "\n",
              "    [theme=dark] .colab-df-convert:hover {\n",
              "      background-color: #434B5C;\n",
              "      box-shadow: 0px 1px 3px 1px rgba(0, 0, 0, 0.15);\n",
              "      filter: drop-shadow(0px 1px 2px rgba(0, 0, 0, 0.3));\n",
              "      fill: #FFFFFF;\n",
              "    }\n",
              "  </style>\n",
              "\n",
              "      <script>\n",
              "        const buttonEl =\n",
              "          document.querySelector('#df-f96ebd5d-0dec-4bdb-bdcd-90d134501551 button.colab-df-convert');\n",
              "        buttonEl.style.display =\n",
              "          google.colab.kernel.accessAllowed ? 'block' : 'none';\n",
              "\n",
              "        async function convertToInteractive(key) {\n",
              "          const element = document.querySelector('#df-f96ebd5d-0dec-4bdb-bdcd-90d134501551');\n",
              "          const dataTable =\n",
              "            await google.colab.kernel.invokeFunction('convertToInteractive',\n",
              "                                                     [key], {});\n",
              "          if (!dataTable) return;\n",
              "\n",
              "          const docLinkHtml = 'Like what you see? Visit the ' +\n",
              "            '<a target=\"_blank\" href=https://colab.research.google.com/notebooks/data_table.ipynb>data table notebook</a>'\n",
              "            + ' to learn more about interactive tables.';\n",
              "          element.innerHTML = '';\n",
              "          dataTable['output_type'] = 'display_data';\n",
              "          await google.colab.output.renderOutput(dataTable, element);\n",
              "          const docLink = document.createElement('div');\n",
              "          docLink.innerHTML = docLinkHtml;\n",
              "          element.appendChild(docLink);\n",
              "        }\n",
              "      </script>\n",
              "    </div>\n",
              "  </div>\n",
              "  "
            ]
          },
          "metadata": {},
          "execution_count": 6
        }
      ]
    },
    {
      "cell_type": "code",
      "source": [
        "setores.NM_MESO.unique()"
      ],
      "metadata": {
        "id": "Zb5rX-XU9aSY",
        "colab": {
          "base_uri": "https://localhost:8080/"
        },
        "outputId": "7c3a6011-e798-4ca9-acbf-44ef55557261"
      },
      "execution_count": null,
      "outputs": [
        {
          "output_type": "execute_result",
          "data": {
            "text/plain": [
              "array(['TRIÂNGULO MINEIRO/ALTO PARANAÍBA', 'CENTRAL MINEIRA',\n",
              "       'ZONA DA MATA', 'VALE DO RIO DOCE', 'OESTE DE MINAS',\n",
              "       'VALE DO MUCURI', 'NORTE DE MINAS', 'SUL/SUDOESTE DE MINAS',\n",
              "       'CAMPO DAS VERTENTES', 'JEQUITINHONHA',\n",
              "       'METROPOLITANA DE BELO HORIZONTE', 'NOROESTE DE MINAS'],\n",
              "      dtype=object)"
            ]
          },
          "metadata": {},
          "execution_count": 7
        }
      ]
    },
    {
      "cell_type": "code",
      "execution_count": null,
      "metadata": {
        "id": "H0A1AJ9kuO-9"
      },
      "outputs": [],
      "source": [
        "setores.shape"
      ]
    },
    {
      "cell_type": "code",
      "source": [
        "# evitar problemas com nomes\n",
        "setores = setores.to_crs(epsg=3395)"
      ],
      "metadata": {
        "id": "BWj3x4ewFpjW"
      },
      "execution_count": null,
      "outputs": []
    },
    {
      "cell_type": "code",
      "source": [
        "# a partir do shapefile de setores de MG, selecionar apenas sul de minas\n",
        "sul = setores.query('NM_MESO == \"SUL/SUDOESTE DE MINAS\"')\n",
        "sul.shape"
      ],
      "metadata": {
        "id": "8vkqrLn39lJt"
      },
      "execution_count": null,
      "outputs": []
    },
    {
      "cell_type": "code",
      "source": [
        "sul.shape"
      ],
      "metadata": {
        "id": "cvJ6ZQKB9z24"
      },
      "execution_count": null,
      "outputs": []
    },
    {
      "cell_type": "code",
      "source": [
        "setores.to_file('setores-mg.json', driver='GeoJSON')"
      ],
      "metadata": {
        "id": "z7fe_qL_A1AN"
      },
      "execution_count": null,
      "outputs": []
    },
    {
      "cell_type": "code",
      "source": [
        "sul.to_file('setores-sul-mg.json', driver='GeoJSON')"
      ],
      "metadata": {
        "id": "olpyXdpUDDzS"
      },
      "execution_count": null,
      "outputs": []
    },
    {
      "cell_type": "code",
      "execution_count": null,
      "metadata": {
        "id": "7KkWYfMGuO--"
      },
      "outputs": [],
      "source": [
        "# a partir do shapefile de setores de MG, selecionar o município de Varginha e apenas os setores urbanos\n",
        "vga = setores.query('NM_MUNICIP == \"VARGINHA\"')\n",
        "mapa_vga = vga.query('TIPO == \"URBANO\"')\n",
        "mapa_vga.shape"
      ]
    },
    {
      "cell_type": "code",
      "execution_count": null,
      "metadata": {
        "id": "xlGBCkP-uO-_"
      },
      "outputs": [],
      "source": [
        "mapa_vga.columns"
      ]
    },
    {
      "cell_type": "code",
      "execution_count": null,
      "metadata": {
        "id": "UUEgGUItuO_A"
      },
      "outputs": [],
      "source": [
        "# plotar os bairros, porém, a divisão está em setores censitários - as 161 linhas\n",
        "# (há bairros repetidos)\n",
        "mapa = mapa_vga\n",
        "ax = mapa.plot(figsize=(15,15))\n",
        "\n",
        "for i in mapa.index:\n",
        "    plt.text(mapa.geometry.centroid[i].coords[0][0], mapa.geometry.centroid[i].coords[0][1], mapa.NM_BAIRRO[i],\n",
        "             fontsize=10, horizontalalignment='center', verticalalignment='center')\n",
        "\n",
        "ax.set_axis_off();"
      ]
    },
    {
      "cell_type": "code",
      "execution_count": null,
      "metadata": {
        "id": "_Pe52n7yuO_C"
      },
      "outputs": [],
      "source": [
        "# tentar agrupar em bairros\n",
        "# mapa contém as informações divididas em 161 setores censitários e queremos unir os setores em 38 bairros\n",
        "# uso da função dissolve\n",
        "# http://geopandas.org/aggregation_with_dissolve.html\n",
        "bairros = mapa_vga.dissolve(by='NM_BAIRRO')\n",
        "bairros.head()"
      ]
    },
    {
      "cell_type": "code",
      "execution_count": null,
      "metadata": {
        "id": "6b_JgrMDuO_D"
      },
      "outputs": [],
      "source": [
        "# plotar os bairros usando o novo dataframe bairros\n",
        "# Obs.: os índices ficaram como os nomes dos bairros, por isso, criei uma nova coluna NM_BAIRRO para\n",
        "# colocar os nomes dos bairros e a nova coluna index irá de 0 a 37 (número de bairros)\n",
        "bairros['NM_BAIRRO'] = bairros.index\n",
        "bairros.index = range(len(bairros))\n",
        "bairros.head()"
      ]
    },
    {
      "cell_type": "code",
      "execution_count": null,
      "metadata": {
        "id": "LZOQTonLuO_E"
      },
      "outputs": [],
      "source": [
        "# plotar os bairros\n",
        "ax = bairros.plot(figsize=(15,15), cmap='Accent')\n",
        "\n",
        "for i in bairros.index:\n",
        "    plt.text(bairros.geometry.centroid[i].coords[0][0], bairros.geometry.centroid[i].coords[0][1], bairros.NM_BAIRRO[i],\n",
        "             fontsize=10, horizontalalignment='center', verticalalignment='center')\n",
        "\n",
        "ax.set_axis_off();"
      ]
    },
    {
      "cell_type": "markdown",
      "metadata": {
        "id": "usa58HqpuO_F"
      },
      "source": [
        "## Plotar os nomes dos bairros de outro município de MG:"
      ]
    },
    {
      "cell_type": "code",
      "execution_count": null,
      "metadata": {
        "collapsed": true,
        "id": "KAqW4zmquO_F"
      },
      "outputs": [],
      "source": [
        "# para saber quais municípios possuem os nomes dos bairros disponíveis\n",
        "setores.NM_BAIRRO.fillna('nnnn', inplace=True)  # preencher os que não têm nomes dos bairros com a string 'nnnn'\n",
        "setores = setores.query('NM_BAIRRO != \"nnnn\"')"
      ]
    },
    {
      "cell_type": "code",
      "execution_count": null,
      "metadata": {
        "id": "aCyWOdEZuO_G"
      },
      "outputs": [],
      "source": [
        "# retornar esses municípios\n",
        "setores['NM_MUNICIP'].unique()"
      ]
    },
    {
      "cell_type": "code",
      "execution_count": null,
      "metadata": {
        "id": "1TSz3wjEuO_H"
      },
      "outputs": [],
      "source": [
        "# plotar o mapa sem os nomes\n",
        "pss = setores.query('NM_MUNICIP == \"PASSOS\"')\n",
        "mapa_pss = pss.query('TIPO == \"URBANO\"')\n",
        "mapa_pss.plot(figsize=(9,9)).set_axis_off();"
      ]
    },
    {
      "cell_type": "code",
      "execution_count": null,
      "metadata": {
        "id": "m9-dduGOuO_I"
      },
      "outputs": [],
      "source": [
        "# verificar se existem bairros para o município escolhido\n",
        "# dataframe.NM_BAIRRO\n",
        "pss.NM_BAIRRO"
      ]
    },
    {
      "cell_type": "code",
      "execution_count": null,
      "metadata": {
        "id": "MVOZIis8uO_J"
      },
      "outputs": [],
      "source": [
        "mapa_pss.columns"
      ]
    },
    {
      "cell_type": "code",
      "execution_count": null,
      "metadata": {
        "id": "240xBuNouO_J"
      },
      "outputs": [],
      "source": [
        "# plotar os bairros, porém, a divisão está em setores censitários\n",
        "# (há bairros repetidos)\n",
        "mapa = mapa_pss\n",
        "ax = mapa.plot(figsize=(15,15))\n",
        "\n",
        "for i in mapa.index:\n",
        "    plt.text(mapa.geometry.centroid[i].coords[0][0], mapa.geometry.centroid[i].coords[0][1], mapa.NM_BAIRRO[i],\n",
        "             fontsize=10, horizontalalignment='center', verticalalignment='center')\n",
        "\n",
        "ax.set_axis_off();"
      ]
    },
    {
      "cell_type": "code",
      "execution_count": null,
      "metadata": {
        "id": "8nhMuYuZuO_K"
      },
      "outputs": [],
      "source": [
        "# tentar agrupar em bairros\n",
        "bairros = mapa_pss.dissolve(by='NM_BAIRRO')\n",
        "bairros.head()"
      ]
    },
    {
      "cell_type": "code",
      "execution_count": null,
      "metadata": {
        "id": "yo0NL7GFuO_L"
      },
      "outputs": [],
      "source": [
        "# plotar os bairros usando o novo dataframe bairros\n",
        "# Obs.: os índices ficaram como os nomes dos bairros, por isso, criei uma nova coluna NM_BAIRRO para\n",
        "# colocar os nomes dos bairros e a nova coluna index irá de 0 a 37 (número de bairros)\n",
        "bairros['NM_BAIRRO'] = bairros.index\n",
        "bairros.index = range(len(bairros))\n",
        "bairros.head()"
      ]
    },
    {
      "cell_type": "code",
      "execution_count": null,
      "metadata": {
        "id": "KDJqJYQjuO_L"
      },
      "outputs": [],
      "source": [
        "# plotar os bairros\n",
        "ax = bairros.plot(figsize=(15,15), cmap='Accent')\n",
        "\n",
        "for i in bairros.index:\n",
        "    plt.text(bairros.geometry.centroid[i].coords[0][0], bairros.geometry.centroid[i].coords[0][1], bairros.NM_BAIRRO[i],\n",
        "             fontsize=10, horizontalalignment='center', verticalalignment='center')\n",
        "\n",
        "ax.set_axis_off();"
      ]
    },
    {
      "cell_type": "markdown",
      "source": [
        "**Tarefa:**\n",
        "\n",
        "Escolher outro município que possua informações sobre os bairros no sul de MG e plotar os bairros, como eu fiz para Varginha e Passos.\n"
      ],
      "metadata": {
        "id": "ggO3E0Rxf-oZ"
      }
    },
    {
      "cell_type": "code",
      "source": [],
      "metadata": {
        "id": "NZiw3a3XhQUA"
      },
      "execution_count": null,
      "outputs": []
    },
    {
      "cell_type": "code",
      "source": [],
      "metadata": {
        "id": "GHRh6TS2hQQT"
      },
      "execution_count": null,
      "outputs": []
    },
    {
      "cell_type": "code",
      "source": [],
      "metadata": {
        "id": "Y_75RbPbhQM1"
      },
      "execution_count": null,
      "outputs": []
    },
    {
      "cell_type": "code",
      "source": [],
      "metadata": {
        "id": "u2Ae5c5dhQJJ"
      },
      "execution_count": null,
      "outputs": []
    },
    {
      "cell_type": "code",
      "source": [],
      "metadata": {
        "id": "lo7Pj4CFhQF-"
      },
      "execution_count": null,
      "outputs": []
    },
    {
      "cell_type": "markdown",
      "metadata": {
        "id": "T4GGlIkJuO_M"
      },
      "source": [
        "### Belo Horizonte"
      ]
    },
    {
      "cell_type": "code",
      "execution_count": null,
      "metadata": {
        "id": "3C_3r4dpuO_N"
      },
      "outputs": [],
      "source": [
        "# plotar o mapa sem os nomes\n",
        "bh = setores.query('NM_MUNICIP == \"BELO HORIZONTE\"')\n",
        "mapa_bh = bh.query('TIPO == \"URBANO\"')\n",
        "mapa_bh.plot(figsize=(15,15)).set_axis_off();"
      ]
    },
    {
      "cell_type": "code",
      "execution_count": null,
      "metadata": {
        "id": "N3a7bKiIuO_N"
      },
      "outputs": [],
      "source": [
        "bh.NM_BAIRRO"
      ]
    },
    {
      "cell_type": "code",
      "execution_count": null,
      "metadata": {
        "id": "NBzmMVM7uO_O"
      },
      "outputs": [],
      "source": [
        "mapa_bh.columns"
      ]
    },
    {
      "cell_type": "code",
      "execution_count": null,
      "metadata": {
        "collapsed": true,
        "id": "Wx_QE5WruO_O"
      },
      "outputs": [],
      "source": [
        "mapa = mapa_bh"
      ]
    },
    {
      "cell_type": "code",
      "execution_count": null,
      "metadata": {
        "id": "wE_H8-qnuO_P"
      },
      "outputs": [],
      "source": [
        "# tentar agrupar em bairros\n",
        "bairros = mapa_bh.dissolve(by='NM_BAIRRO')\n",
        "bairros.head()"
      ]
    },
    {
      "cell_type": "code",
      "execution_count": null,
      "metadata": {
        "id": "4wzYLTkIuO_Q"
      },
      "outputs": [],
      "source": [
        "# plotar os bairros usando o novo dataframe bairros\n",
        "# Obs.: os índices ficaram como os nomes dos bairros, por isso, criei uma nova coluna NM_BAIRRO para\n",
        "# colocar os nomes dos bairros e a nova coluna index irá de 0 a 37 (número de bairros)\n",
        "bairros['NM_BAIRRO'] = bairros.index\n",
        "bairros.index = range(len(bairros))\n",
        "bairros.head()"
      ]
    },
    {
      "cell_type": "code",
      "execution_count": null,
      "metadata": {
        "id": "N-fVfyIuuO_Q"
      },
      "outputs": [],
      "source": [
        "# plotar os bairros\n",
        "ax = bairros.plot(figsize=(30,30), cmap='Accent')\n",
        "\n",
        "for i in bairros.index:\n",
        "    plt.text(bairros.geometry.centroid[i].coords[0][0], bairros.geometry.centroid[i].coords[0][1], bairros.NM_BAIRRO[i],\n",
        "             fontsize=10, horizontalalignment='center', verticalalignment='center', fontdict={'color':'white'})\n",
        "\n",
        "ax.set_axis_off();"
      ]
    },
    {
      "cell_type": "markdown",
      "metadata": {
        "id": "mcoZvc-WuO_R"
      },
      "source": [
        "### Agora vamos pegar variáveis sobre os setores censitários de MG e utilizar os de Varginha."
      ]
    },
    {
      "cell_type": "markdown",
      "metadata": {
        "id": "RkLFUK3muO_R"
      },
      "source": [
        "O arquivo que usaremos será o 'basico_MG.csv'\n",
        "\n",
        "As variáveis desse arquivo estão codificadas, para saber o que significam, consultar o arquivo 'base_setores_censitarios_censo_2010.pdf'"
      ]
    },
    {
      "cell_type": "code",
      "execution_count": null,
      "metadata": {
        "id": "zQUIyNBJuO_S"
      },
      "outputs": [],
      "source": [
        "# carregar arquivo com dados sobre os setores censitários de MG\n",
        "mg = pd.read_csv('Basico_MG.csv', encoding='latin1', sep=';', decimal=',')\n",
        "mg.head()"
      ]
    },
    {
      "cell_type": "code",
      "execution_count": null,
      "metadata": {
        "id": "Z3aGW45ruO_T"
      },
      "outputs": [],
      "source": [
        "mg.columns"
      ]
    },
    {
      "cell_type": "code",
      "execution_count": null,
      "metadata": {
        "id": "5lmqSy0duO_T"
      },
      "outputs": [],
      "source": [
        "mg.Nome_do_municipio.unique()"
      ]
    },
    {
      "cell_type": "code",
      "execution_count": null,
      "metadata": {
        "id": "w0zC9ckYuO_U"
      },
      "outputs": [],
      "source": [
        "# informações dos setores censitários de Varginha\n",
        "mg.query('Nome_do_municipio == \"VARGINHA\"')"
      ]
    },
    {
      "cell_type": "code",
      "execution_count": null,
      "metadata": {
        "id": "HJ_CnudnuO_V"
      },
      "outputs": [],
      "source": [
        "# salvar as informações de Varginha num dataframe\n",
        "vga_df = mg.query('Nome_do_municipio == \"VARGINHA\"')\n",
        "vga_df = vga_df.query('Situacao_setor == [1, 2, 3]')   # só setores urbanos\n",
        "vga_df.head()"
      ]
    },
    {
      "cell_type": "code",
      "execution_count": null,
      "metadata": {
        "id": "RcJ_AmX_uO_V"
      },
      "outputs": [],
      "source": [
        "vga_df.shape    # 161 setores censitários"
      ]
    },
    {
      "cell_type": "code",
      "execution_count": null,
      "metadata": {
        "id": "UUXr-NbHuO_W"
      },
      "outputs": [],
      "source": [
        "vga_df.columns   # variáveis: 12"
      ]
    },
    {
      "cell_type": "code",
      "execution_count": null,
      "metadata": {
        "id": "ZAnpDqG6uO_X"
      },
      "outputs": [],
      "source": [
        "# o objeto 'mapa_vga' contém as informações geográficas de todos os setores censitários de Varginha\n",
        "# vamos incluir as informações das variáveis presentes em 'vgn_df' neste dataframe\n",
        "# e chamá-lo de geodf\n",
        "# como usaremos a coluna de código do setor censitário como a variável para unir os dois conjuntos de\n",
        "# dados, o nome dessa coluna deve ser o mesmo nos dois (chamarei de 'Cod_setor')\n",
        "df = vga_df\n",
        "geodf = mapa_vga\n",
        "geodf.geometry = geodf.geometry.simplify(0.001)\n",
        "geodf.rename(columns={'CD_GEOCODI': 'CD_setor'}, inplace=True)\n",
        "geodf.head()"
      ]
    },
    {
      "cell_type": "code",
      "execution_count": null,
      "metadata": {
        "id": "fyEw_XKouO_Y"
      },
      "outputs": [],
      "source": [
        "geodf.shape"
      ]
    },
    {
      "cell_type": "code",
      "execution_count": null,
      "metadata": {
        "collapsed": true,
        "id": "bpfWKsVbuO_Y"
      },
      "outputs": [],
      "source": [
        "# os códigos não estão sendo lidos como inteiros, transformá-los em inteiros\n",
        "geodf.CD_setor = geodf.CD_setor.astype('int64')"
      ]
    },
    {
      "cell_type": "code",
      "execution_count": null,
      "metadata": {
        "collapsed": true,
        "id": "-14Df2a-uO_Z"
      },
      "outputs": [],
      "source": [
        "# para que os dois dataframes tenham a coluna de códigos com o mesmo nome,\n",
        "# alterar para CD_setor\n",
        "df.rename(columns={'Cod_setor': 'CD_setor'}, inplace=True)"
      ]
    },
    {
      "cell_type": "code",
      "execution_count": null,
      "metadata": {
        "id": "lf_0361xuO_Z"
      },
      "outputs": [],
      "source": [
        "# unir o dataframe de informações geográficas com o outro dataframe com as variáveis\n",
        "# Obs.: 'suffixes' é para o caso de haver variáveis de mesmo nome, incluir alguma coisa no final do nome\n",
        "# em cada dataframe\n",
        "varginha = pd.merge(geodf, df, on='CD_setor')\n",
        "varginha"
      ]
    },
    {
      "cell_type": "code",
      "execution_count": null,
      "metadata": {
        "id": "gF69EfMKuO_a"
      },
      "outputs": [],
      "source": [
        "varginha.columns"
      ]
    },
    {
      "cell_type": "code",
      "source": [
        "varginha.shape"
      ],
      "metadata": {
        "id": "ux2HEWwQfgBj"
      },
      "execution_count": null,
      "outputs": []
    }
  ]
}